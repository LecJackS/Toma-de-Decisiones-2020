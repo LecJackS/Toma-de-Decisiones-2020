{
 "cells": [
  {
   "cell_type": "markdown",
   "metadata": {},
   "source": [
    "Protoposterior El protoposterior de un escenario es el likelihood del escenario multiplicado por el prior.\n",
    "\n",
    "G- ¿Cuáles son los protoposteriores de los escenarios 1 y 2?"
   ]
  },
  {
   "cell_type": "code",
   "execution_count": 2,
   "metadata": {},
   "outputs": [
    {
     "data": {
      "text/html": [
       "0.333333333333333"
      ],
      "text/latex": [
       "0.333333333333333"
      ],
      "text/markdown": [
       "0.333333333333333"
      ],
      "text/plain": [
       "[1] 0.3333333"
      ]
     },
     "metadata": {},
     "output_type": "display_data"
    },
    {
     "data": {
      "text/html": [
       "0.0104166666666667"
      ],
      "text/latex": [
       "0.0104166666666667"
      ],
      "text/markdown": [
       "0.0104166666666667"
      ],
      "text/plain": [
       "[1] 0.01041667"
      ]
     },
     "metadata": {},
     "output_type": "display_data"
    }
   ],
   "source": [
    "0.5*2/3\n",
    "0.5^5*1/3"
   ]
  },
  {
   "cell_type": "markdown",
   "metadata": {},
   "source": [
    "H- ¿Suman 1 los protoposteriores?"
   ]
  },
  {
   "cell_type": "markdown",
   "metadata": {},
   "source": [
    "> No"
   ]
  },
  {
   "cell_type": "markdown",
   "metadata": {},
   "source": [
    "Posteriores Las probabilidades posteriores tienen que sumar 1.\n",
    "\n",
    "\n",
    "I- Para conseguirlo, dividir cada protoposterior por la suma de los protoposteriores. Calcular la probabilidad posterior de los escenarios 1 y 2. Es decir, aplicar la regla de Bayes."
   ]
  },
  {
   "cell_type": "code",
   "execution_count": 4,
   "metadata": {},
   "outputs": [
    {
     "data": {
      "text/html": [
       "0.96969696969697"
      ],
      "text/latex": [
       "0.96969696969697"
      ],
      "text/markdown": [
       "0.96969696969697"
      ],
      "text/plain": [
       "[1] 0.969697"
      ]
     },
     "metadata": {},
     "output_type": "display_data"
    },
    {
     "data": {
      "text/html": [
       "0.0303030303030303"
      ],
      "text/latex": [
       "0.0303030303030303"
      ],
      "text/markdown": [
       "0.0303030303030303"
      ],
      "text/plain": [
       "[1] 0.03030303"
      ]
     },
     "metadata": {},
     "output_type": "display_data"
    }
   ],
   "source": [
    "P_H1 <- 2/3\n",
    "P_H2 <- 1/3\n",
    "\n",
    "P_obs_dado_H1 <- 0.5\n",
    "P_obs_dado_H2 <- 0.5^5\n",
    "\n",
    "P_obs <- P_H1*P_obs_dado_H1 + P_H2*P_obs_dado_H2\n",
    "\n",
    "Posterior_1 <- P_H1*P_obs_dado_H1 / P_obs\n",
    "Posterior_2 <- P_H2*P_obs_dado_H2 / P_obs\n",
    "\n",
    "Posterior_1\n",
    "Posterior_2"
   ]
  },
  {
   "cell_type": "markdown",
   "metadata": {},
   "source": [
    "Percepción El modelo estándar de observador bayesiano para hipótesis discretas asume que la percepción es el escenario con la mayor probabilidad posterior (maximum-a-posteriori o estimación MAP)\n",
    "\n",
    "J- ¿Sería consistente con el principio Gestaltico de “dirección común”?"
   ]
  },
  {
   "cell_type": "markdown",
   "metadata": {},
   "source": [
    "> Sí, pues la probabilidad posterior es de 96.97% de que la hipótesis 1 (mismo objeto) sea cierta, muy por encima al de la hipótesis 2 (objetos independientes)"
   ]
  },
  {
   "cell_type": "markdown",
   "metadata": {},
   "source": [
    "K- Explicar por qué el modelo de observador bayesiano va más allá de la descripción que la psicología de la Gestalt hace del fenómeno.\n",
    "\n",
    "Notar que en este caso el prior es relativamente poco importante. El peso está en el likelihood. La interpretación de la función de likelihood es en términos de hipótesis: cuando el observador recibe evidencia sensorial, cuál es la probabilidad de obtener esa evidencia cuando el estado del mundo (en este caso, escenarios 1 y 2) toma determinado valor? Cada valor del estado del mundo es una hipótesis, y el likelihood de esa hipótesis cuantifica la creencia que tiene el observador de que las observaciones ocurrieron bajo esa hipótesis. Las probabilidades a priori y posteriores también son distribuciones de creencia, cuyos argumentos son hipótesis."
   ]
  },
  {
   "cell_type": "markdown",
   "metadata": {},
   "source": [
    "# Ejercicio 8\n",
    "\n",
    "En una bolsa hay 4 pelotas. Las pelotas pueden ser rojas o negras pero no se sabe cuántas hay de cada color. Se extraen tres pelotas, de a una y reemplazando en la bolsa después de cada extracción, y se obtiene la secuencia (roja, negra, roja). ¿Cuál es el número más probables de pelotas de cada color? Después se extrae una cuarta y es roja. ¿Cómo cambia el cálculo? Calcular la plausibilidad (probabilidad) de cada posible “hipótesis” sobre el contenido de la bolsa."
   ]
  },
  {
   "cell_type": "code",
   "execution_count": null,
   "metadata": {},
   "outputs": [],
   "source": []
  },
  {
   "cell_type": "code",
   "execution_count": 132,
   "metadata": {},
   "outputs": [],
   "source": [
    "# Priors: Antes de sacar ninguna\n",
    "p_H0 <- 1/5 # 0 rojas 4 negras\n",
    "p_H1 <- 1/5 # 1 roja  3 negras\n",
    "p_H2 <- 1/5\n",
    "p_H3 <- 1/5\n",
    "p_H4 <- 1/5 # 4 rojas 0 negras"
   ]
  },
  {
   "cell_type": "code",
   "execution_count": 133,
   "metadata": {},
   "outputs": [],
   "source": [
    "# Saco 1 roja, Hipotesis 0\n",
    "p_obs1_dado_H0 <- 0\n",
    "# Hipotesis 1\n",
    "p_obs1_dado_H1 <- 1/4\n",
    "# Hipotesis 2\n",
    "p_obs1_dado_H2 <- 2/4\n",
    "# Hipotesis 3\n",
    "p_obs1_dado_H3 <- 3/4\n",
    "# Hipotesis 4\n",
    "p_obs1_dado_H4 <- 4/4\n",
    "\n",
    "p_obs1 <- p_obs1_dado_H0 * p_H0 + p_obs1_dado_H1 * p_H1 + p_obs1_dado_H2 * p_H2 + p_obs1_dado_H3 * p_H3 + p_obs1_dado_H4 * p_H4"
   ]
  },
  {
   "cell_type": "code",
   "execution_count": 134,
   "metadata": {},
   "outputs": [
    {
     "data": {
      "text/html": [
       "0"
      ],
      "text/latex": [
       "0"
      ],
      "text/markdown": [
       "0"
      ],
      "text/plain": [
       "[1] 0"
      ]
     },
     "metadata": {},
     "output_type": "display_data"
    }
   ],
   "source": [
    "# Saco 1 roja, Hipotesis 0\n",
    "p_H0_dado_obs1 <- p_obs1_dado_H0 * p_H0 / p_obs1\n",
    "p_H0_dado_obs1"
   ]
  },
  {
   "cell_type": "code",
   "execution_count": 135,
   "metadata": {},
   "outputs": [
    {
     "data": {
      "text/html": [
       "0.1"
      ],
      "text/latex": [
       "0.1"
      ],
      "text/markdown": [
       "0.1"
      ],
      "text/plain": [
       "[1] 0.1"
      ]
     },
     "metadata": {},
     "output_type": "display_data"
    }
   ],
   "source": [
    "# Hipotesis 1\n",
    "p_H1_dado_obs1 <- p_obs1_dado_H1 * p_H1 / p_obs1\n",
    "p_H1_dado_obs1"
   ]
  },
  {
   "cell_type": "code",
   "execution_count": 136,
   "metadata": {},
   "outputs": [
    {
     "data": {
      "text/html": [
       "0.2"
      ],
      "text/latex": [
       "0.2"
      ],
      "text/markdown": [
       "0.2"
      ],
      "text/plain": [
       "[1] 0.2"
      ]
     },
     "metadata": {},
     "output_type": "display_data"
    }
   ],
   "source": [
    "# Hipotesis 2\n",
    "p_H2_dado_obs1 <- p_obs1_dado_H2 * p_H2 / p_obs1\n",
    "p_H2_dado_obs1"
   ]
  },
  {
   "cell_type": "code",
   "execution_count": 137,
   "metadata": {},
   "outputs": [
    {
     "data": {
      "text/html": [
       "0.3"
      ],
      "text/latex": [
       "0.3"
      ],
      "text/markdown": [
       "0.3"
      ],
      "text/plain": [
       "[1] 0.3"
      ]
     },
     "metadata": {},
     "output_type": "display_data"
    }
   ],
   "source": [
    "# Hipotesis 3\n",
    "p_H3_dado_obs1 <- p_obs1_dado_H3 * p_H3 / p_obs1\n",
    "p_H3_dado_obs1"
   ]
  },
  {
   "cell_type": "code",
   "execution_count": 138,
   "metadata": {},
   "outputs": [
    {
     "data": {
      "text/html": [
       "0.4"
      ],
      "text/latex": [
       "0.4"
      ],
      "text/markdown": [
       "0.4"
      ],
      "text/plain": [
       "[1] 0.4"
      ]
     },
     "metadata": {},
     "output_type": "display_data"
    }
   ],
   "source": [
    "# Hipotesis 4\n",
    "p_H4_dado_obs1 <- p_obs1_dado_H4 * p_H4 / p_obs1\n",
    "p_H4_dado_obs1"
   ]
  },
  {
   "cell_type": "code",
   "execution_count": 139,
   "metadata": {},
   "outputs": [],
   "source": [
    "# Actualizo priors luego de primera extracción\n",
    "p_H0 <- p_H0_dado_obs1 # = 0\n",
    "p_H1 <- p_H1_dado_obs1\n",
    "p_H2 <- p_H2_dado_obs1\n",
    "p_H3 <- p_H3_dado_obs1\n",
    "p_H4 <- p_H4_dado_obs1"
   ]
  },
  {
   "cell_type": "code",
   "execution_count": 140,
   "metadata": {},
   "outputs": [],
   "source": [
    "# Saco 1 negra, luego de 1 roja, Hipotesis 0\n",
    "p_obs2_dado_H0 <- 4/4\n",
    "# Hipotesis 1\n",
    "p_obs2_dado_H1 <- 3/4\n",
    "# Hipotesis 2\n",
    "p_obs2_dado_H2 <- 2/4\n",
    "# Hipotesis 3\n",
    "p_obs2_dado_H3 <- 1/4\n",
    "# Hipotesis 4\n",
    "p_obs2_dado_H4 <- 0\n",
    "\n",
    "p_obs2 <- p_obs2_dado_H0 * p_H0 + p_obs2_dado_H1 * p_H1 + p_obs2_dado_H2 * p_H2 + p_obs2_dado_H3 * p_H3 + p_obs2_dado_H4 * p_H4"
   ]
  },
  {
   "cell_type": "code",
   "execution_count": 141,
   "metadata": {},
   "outputs": [
    {
     "data": {
      "text/html": [
       "0"
      ],
      "text/latex": [
       "0"
      ],
      "text/markdown": [
       "0"
      ],
      "text/plain": [
       "[1] 0"
      ]
     },
     "metadata": {},
     "output_type": "display_data"
    }
   ],
   "source": [
    "# Saco 1 negra, luego de 1 roja, Hipotesis 0\n",
    "p_H0_dado_obs2 <- p_obs2_dado_H0 * p_H0 / p_obs2\n",
    "p_H0_dado_obs2"
   ]
  },
  {
   "cell_type": "code",
   "execution_count": 142,
   "metadata": {},
   "outputs": [
    {
     "data": {
      "text/html": [
       "0.3"
      ],
      "text/latex": [
       "0.3"
      ],
      "text/markdown": [
       "0.3"
      ],
      "text/plain": [
       "[1] 0.3"
      ]
     },
     "metadata": {},
     "output_type": "display_data"
    }
   ],
   "source": [
    "# Hipotesis 1\n",
    "p_H1_dado_obs2 <- p_obs2_dado_H1 * p_H1 / p_obs2\n",
    "p_H1_dado_obs2"
   ]
  },
  {
   "cell_type": "code",
   "execution_count": 143,
   "metadata": {},
   "outputs": [
    {
     "data": {
      "text/html": [
       "0.4"
      ],
      "text/latex": [
       "0.4"
      ],
      "text/markdown": [
       "0.4"
      ],
      "text/plain": [
       "[1] 0.4"
      ]
     },
     "metadata": {},
     "output_type": "display_data"
    }
   ],
   "source": [
    "# Hipotesis 2\n",
    "p_H2_dado_obs2 <- p_obs2_dado_H2 * p_H2 / p_obs2\n",
    "p_H2_dado_obs2"
   ]
  },
  {
   "cell_type": "code",
   "execution_count": 144,
   "metadata": {},
   "outputs": [
    {
     "data": {
      "text/html": [
       "0.3"
      ],
      "text/latex": [
       "0.3"
      ],
      "text/markdown": [
       "0.3"
      ],
      "text/plain": [
       "[1] 0.3"
      ]
     },
     "metadata": {},
     "output_type": "display_data"
    }
   ],
   "source": [
    "# Hipotesis 3\n",
    "p_H3_dado_obs2 <- p_obs2_dado_H3 * p_H3 / p_obs2\n",
    "p_H3_dado_obs2"
   ]
  },
  {
   "cell_type": "code",
   "execution_count": 145,
   "metadata": {},
   "outputs": [
    {
     "data": {
      "text/html": [
       "0"
      ],
      "text/latex": [
       "0"
      ],
      "text/markdown": [
       "0"
      ],
      "text/plain": [
       "[1] 0"
      ]
     },
     "metadata": {},
     "output_type": "display_data"
    }
   ],
   "source": [
    "# Hipotesis 4\n",
    "p_H4_dado_obs2 <- p_obs2_dado_H4 * p_H4 / p_obs2\n",
    "p_H4_dado_obs2"
   ]
  },
  {
   "cell_type": "code",
   "execution_count": 146,
   "metadata": {},
   "outputs": [
    {
     "data": {
      "text/html": [
       "0"
      ],
      "text/latex": [
       "0"
      ],
      "text/markdown": [
       "0"
      ],
      "text/plain": [
       "[1] 0"
      ]
     },
     "metadata": {},
     "output_type": "display_data"
    },
    {
     "data": {
      "text/html": [
       "0.3"
      ],
      "text/latex": [
       "0.3"
      ],
      "text/markdown": [
       "0.3"
      ],
      "text/plain": [
       "[1] 0.3"
      ]
     },
     "metadata": {},
     "output_type": "display_data"
    },
    {
     "data": {
      "text/html": [
       "0.4"
      ],
      "text/latex": [
       "0.4"
      ],
      "text/markdown": [
       "0.4"
      ],
      "text/plain": [
       "[1] 0.4"
      ]
     },
     "metadata": {},
     "output_type": "display_data"
    },
    {
     "data": {
      "text/html": [
       "0.3"
      ],
      "text/latex": [
       "0.3"
      ],
      "text/markdown": [
       "0.3"
      ],
      "text/plain": [
       "[1] 0.3"
      ]
     },
     "metadata": {},
     "output_type": "display_data"
    },
    {
     "data": {
      "text/html": [
       "0"
      ],
      "text/latex": [
       "0"
      ],
      "text/markdown": [
       "0"
      ],
      "text/plain": [
       "[1] 0"
      ]
     },
     "metadata": {},
     "output_type": "display_data"
    }
   ],
   "source": [
    "p_H0_dado_obs2\n",
    "p_H1_dado_obs2\n",
    "p_H2_dado_obs2\n",
    "p_H3_dado_obs2\n",
    "p_H4_dado_obs2"
   ]
  },
  {
   "cell_type": "code",
   "execution_count": 147,
   "metadata": {},
   "outputs": [],
   "source": [
    "# Actualizo priors luego de SEGUNDA extracción\n",
    "p_H0 <- p_H0_dado_obs2 # = 0\n",
    "p_H1 <- p_H1_dado_obs2\n",
    "p_H2 <- p_H2_dado_obs2\n",
    "p_H3 <- p_H3_dado_obs2\n",
    "p_H4 <- p_H4_dado_obs2"
   ]
  },
  {
   "cell_type": "code",
   "execution_count": 148,
   "metadata": {},
   "outputs": [],
   "source": [
    "# Saco 1 roja, luego de 1 negra, luego de 1 roja, Hipotesis 0\n",
    "p_obs3_dado_H0 <- 0\n",
    "# Hipotesis 1\n",
    "p_obs3_dado_H1 <- 1/4\n",
    "# Hipotesis 2\n",
    "p_obs3_dado_H2 <- 2/4\n",
    "# Hipotesis 3\n",
    "p_obs3_dado_H3 <- 3/4\n",
    "# Hipotesis 4\n",
    "p_obs3_dado_H4 <- 4/4\n",
    "\n",
    "p_obs3 <- p_obs3_dado_H0 * p_H0 + p_obs3_dado_H1 * p_H1 + p_obs3_dado_H2 * p_H2 + p_obs3_dado_H3 * p_H3 + p_obs3_dado_H4 * p_H4"
   ]
  },
  {
   "cell_type": "code",
   "execution_count": 149,
   "metadata": {},
   "outputs": [
    {
     "data": {
      "text/html": [
       "0"
      ],
      "text/latex": [
       "0"
      ],
      "text/markdown": [
       "0"
      ],
      "text/plain": [
       "[1] 0"
      ]
     },
     "metadata": {},
     "output_type": "display_data"
    }
   ],
   "source": [
    "# Saco 1 roja, luego de 1 negra, luego de 1 roja, Hipotesis 0\n",
    "p_H0_dado_obs3 <- p_obs3_dado_H0 * p_H0 / p_obs3\n",
    "p_H0_dado_obs3"
   ]
  },
  {
   "cell_type": "code",
   "execution_count": 150,
   "metadata": {},
   "outputs": [
    {
     "data": {
      "text/html": [
       "0.15"
      ],
      "text/latex": [
       "0.15"
      ],
      "text/markdown": [
       "0.15"
      ],
      "text/plain": [
       "[1] 0.15"
      ]
     },
     "metadata": {},
     "output_type": "display_data"
    }
   ],
   "source": [
    "# Hipotesis 1\n",
    "p_H1_dado_obs3 <- p_obs3_dado_H1 * p_H1 / p_obs3\n",
    "p_H1_dado_obs3"
   ]
  },
  {
   "cell_type": "code",
   "execution_count": 151,
   "metadata": {},
   "outputs": [
    {
     "data": {
      "text/html": [
       "0.4"
      ],
      "text/latex": [
       "0.4"
      ],
      "text/markdown": [
       "0.4"
      ],
      "text/plain": [
       "[1] 0.4"
      ]
     },
     "metadata": {},
     "output_type": "display_data"
    }
   ],
   "source": [
    "# Hipotesis 2\n",
    "p_H2_dado_obs3 <- p_obs3_dado_H2 * p_H2 / p_obs3\n",
    "p_H2_dado_obs3"
   ]
  },
  {
   "cell_type": "code",
   "execution_count": 152,
   "metadata": {},
   "outputs": [
    {
     "data": {
      "text/html": [
       "0.45"
      ],
      "text/latex": [
       "0.45"
      ],
      "text/markdown": [
       "0.45"
      ],
      "text/plain": [
       "[1] 0.45"
      ]
     },
     "metadata": {},
     "output_type": "display_data"
    }
   ],
   "source": [
    "# Hipotesis 3\n",
    "p_H3_dado_obs3 <- p_obs3_dado_H3 * p_H3 / p_obs3\n",
    "p_H3_dado_obs3"
   ]
  },
  {
   "cell_type": "code",
   "execution_count": 153,
   "metadata": {},
   "outputs": [
    {
     "data": {
      "text/html": [
       "0"
      ],
      "text/latex": [
       "0"
      ],
      "text/markdown": [
       "0"
      ],
      "text/plain": [
       "[1] 0"
      ]
     },
     "metadata": {},
     "output_type": "display_data"
    }
   ],
   "source": [
    "# Hipotesis 4\n",
    "p_H4_dado_obs3 <- p_obs3_dado_H4 * p_H4 / p_obs3\n",
    "p_H4_dado_obs3"
   ]
  },
  {
   "cell_type": "code",
   "execution_count": 154,
   "metadata": {},
   "outputs": [
    {
     "data": {
      "text/html": [
       "0"
      ],
      "text/latex": [
       "0"
      ],
      "text/markdown": [
       "0"
      ],
      "text/plain": [
       "[1] 0"
      ]
     },
     "metadata": {},
     "output_type": "display_data"
    },
    {
     "data": {
      "text/html": [
       "0.15"
      ],
      "text/latex": [
       "0.15"
      ],
      "text/markdown": [
       "0.15"
      ],
      "text/plain": [
       "[1] 0.15"
      ]
     },
     "metadata": {},
     "output_type": "display_data"
    },
    {
     "data": {
      "text/html": [
       "0.4"
      ],
      "text/latex": [
       "0.4"
      ],
      "text/markdown": [
       "0.4"
      ],
      "text/plain": [
       "[1] 0.4"
      ]
     },
     "metadata": {},
     "output_type": "display_data"
    },
    {
     "data": {
      "text/html": [
       "0.45"
      ],
      "text/latex": [
       "0.45"
      ],
      "text/markdown": [
       "0.45"
      ],
      "text/plain": [
       "[1] 0.45"
      ]
     },
     "metadata": {},
     "output_type": "display_data"
    },
    {
     "data": {
      "text/html": [
       "0"
      ],
      "text/latex": [
       "0"
      ],
      "text/markdown": [
       "0"
      ],
      "text/plain": [
       "[1] 0"
      ]
     },
     "metadata": {},
     "output_type": "display_data"
    }
   ],
   "source": [
    "p_H0_dado_obs3\n",
    "p_H1_dado_obs3\n",
    "p_H2_dado_obs3\n",
    "p_H3_dado_obs3\n",
    "p_H4_dado_obs3"
   ]
  },
  {
   "cell_type": "code",
   "execution_count": 155,
   "metadata": {},
   "outputs": [],
   "source": [
    "# Actualizo priors luego de TERCERA extracción\n",
    "p_H0 <- p_H0_dado_obs3 # = 0\n",
    "p_H1 <- p_H1_dado_obs3\n",
    "p_H2 <- p_H2_dado_obs3\n",
    "p_H3 <- p_H3_dado_obs3\n",
    "p_H4 <- p_H4_dado_obs3"
   ]
  },
  {
   "cell_type": "code",
   "execution_count": 156,
   "metadata": {},
   "outputs": [],
   "source": [
    "# Saco 1 roja, luego de 1 roja, luego de 1 negra, luego de 1 roja, Hipotesis 0\n",
    "p_obs4_dado_H0 <- 0\n",
    "# Hipotesis 1\n",
    "p_obs4_dado_H1 <- 1/4\n",
    "# Hipotesis 2\n",
    "p_obs4_dado_H2 <- 2/4\n",
    "# Hipotesis 3\n",
    "p_obs4_dado_H3 <- 3/4\n",
    "# Hipotesis 4\n",
    "p_obs4_dado_H4 <- 4/4\n",
    "\n",
    "p_obs4 <- p_obs4_dado_H0 * p_H0 + p_obs4_dado_H1 * p_H1 + p_obs4_dado_H2 * p_H2 + p_obs4_dado_H3 * p_H3 + p_obs4_dado_H4 * p_H4"
   ]
  },
  {
   "cell_type": "code",
   "execution_count": 157,
   "metadata": {},
   "outputs": [
    {
     "data": {
      "text/html": [
       "0"
      ],
      "text/latex": [
       "0"
      ],
      "text/markdown": [
       "0"
      ],
      "text/plain": [
       "[1] 0"
      ]
     },
     "metadata": {},
     "output_type": "display_data"
    }
   ],
   "source": [
    "# Saco 1 roja, luego de 1 negra, luego de 1 roja, Hipotesis 0\n",
    "p_H0_dado_obs4 <- p_obs4_dado_H0 * p_H0 / p_obs4\n",
    "p_H0_dado_obs4"
   ]
  },
  {
   "cell_type": "code",
   "execution_count": 158,
   "metadata": {},
   "outputs": [
    {
     "data": {
      "text/html": [
       "0.0652173913043478"
      ],
      "text/latex": [
       "0.0652173913043478"
      ],
      "text/markdown": [
       "0.0652173913043478"
      ],
      "text/plain": [
       "[1] 0.06521739"
      ]
     },
     "metadata": {},
     "output_type": "display_data"
    }
   ],
   "source": [
    "# Hipotesis 1\n",
    "p_H1_dado_obs4 <- p_obs4_dado_H1 * p_H1 / p_obs4\n",
    "p_H1_dado_obs4"
   ]
  },
  {
   "cell_type": "code",
   "execution_count": 159,
   "metadata": {},
   "outputs": [
    {
     "data": {
      "text/html": [
       "0.347826086956522"
      ],
      "text/latex": [
       "0.347826086956522"
      ],
      "text/markdown": [
       "0.347826086956522"
      ],
      "text/plain": [
       "[1] 0.3478261"
      ]
     },
     "metadata": {},
     "output_type": "display_data"
    }
   ],
   "source": [
    "# Hipotesis 2\n",
    "p_H2_dado_obs4 <- p_obs4_dado_H2 * p_H2 / p_obs4\n",
    "p_H2_dado_obs4"
   ]
  },
  {
   "cell_type": "code",
   "execution_count": 160,
   "metadata": {},
   "outputs": [
    {
     "data": {
      "text/html": [
       "0.58695652173913"
      ],
      "text/latex": [
       "0.58695652173913"
      ],
      "text/markdown": [
       "0.58695652173913"
      ],
      "text/plain": [
       "[1] 0.5869565"
      ]
     },
     "metadata": {},
     "output_type": "display_data"
    }
   ],
   "source": [
    "# Hipotesis 3\n",
    "p_H3_dado_obs4 <- p_obs4_dado_H3 * p_H3 / p_obs4\n",
    "p_H3_dado_obs4"
   ]
  },
  {
   "cell_type": "code",
   "execution_count": 161,
   "metadata": {},
   "outputs": [
    {
     "data": {
      "text/html": [
       "0"
      ],
      "text/latex": [
       "0"
      ],
      "text/markdown": [
       "0"
      ],
      "text/plain": [
       "[1] 0"
      ]
     },
     "metadata": {},
     "output_type": "display_data"
    }
   ],
   "source": [
    "# Hipotesis 4\n",
    "p_H4_dado_obs4 <- p_obs4_dado_H4 * p_H4 / p_obs4\n",
    "p_H4_dado_obs4"
   ]
  },
  {
   "cell_type": "code",
   "execution_count": 163,
   "metadata": {},
   "outputs": [
    {
     "data": {
      "text/html": [
       "0"
      ],
      "text/latex": [
       "0"
      ],
      "text/markdown": [
       "0"
      ],
      "text/plain": [
       "[1] 0"
      ]
     },
     "metadata": {},
     "output_type": "display_data"
    },
    {
     "data": {
      "text/html": [
       "0.0652173913043478"
      ],
      "text/latex": [
       "0.0652173913043478"
      ],
      "text/markdown": [
       "0.0652173913043478"
      ],
      "text/plain": [
       "[1] 0.06521739"
      ]
     },
     "metadata": {},
     "output_type": "display_data"
    },
    {
     "data": {
      "text/html": [
       "0.347826086956522"
      ],
      "text/latex": [
       "0.347826086956522"
      ],
      "text/markdown": [
       "0.347826086956522"
      ],
      "text/plain": [
       "[1] 0.3478261"
      ]
     },
     "metadata": {},
     "output_type": "display_data"
    },
    {
     "data": {
      "text/html": [
       "0.58695652173913"
      ],
      "text/latex": [
       "0.58695652173913"
      ],
      "text/markdown": [
       "0.58695652173913"
      ],
      "text/plain": [
       "[1] 0.5869565"
      ]
     },
     "metadata": {},
     "output_type": "display_data"
    },
    {
     "data": {
      "text/html": [
       "0"
      ],
      "text/latex": [
       "0"
      ],
      "text/markdown": [
       "0"
      ],
      "text/plain": [
       "[1] 0"
      ]
     },
     "metadata": {},
     "output_type": "display_data"
    }
   ],
   "source": [
    "p_H0_dado_obs4\n",
    "p_H1_dado_obs4\n",
    "p_H2_dado_obs4\n",
    "p_H3_dado_obs4\n",
    "p_H4_dado_obs4"
   ]
  },
  {
   "cell_type": "code",
   "execution_count": null,
   "metadata": {},
   "outputs": [],
   "source": []
  },
  {
   "cell_type": "code",
   "execution_count": null,
   "metadata": {},
   "outputs": [],
   "source": []
  }
 ],
 "metadata": {
  "kernelspec": {
   "display_name": "R [conda env:r] *",
   "language": "R",
   "name": "conda-env-r-r"
  },
  "language_info": {
   "codemirror_mode": "r",
   "file_extension": ".r",
   "mimetype": "text/x-r-source",
   "name": "R",
   "pygments_lexer": "r",
   "version": "3.6.3"
  }
 },
 "nbformat": 4,
 "nbformat_minor": 4
}
